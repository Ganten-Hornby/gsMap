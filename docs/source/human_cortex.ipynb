{
 "cells": [
  {
   "cell_type": "markdown",
   "source": [
    "# Data Download"
   ],
   "metadata": {
    "collapsed": false
   },
   "id": "14afa770db749faa"
  },
  {
   "cell_type": "code",
   "outputs": [
    {
     "data": {
      "text/plain": "'/storage/yangjianLab/chenwenhao/projects/202312_GPS/src/GPS/docs/source'"
     },
     "execution_count": 2,
     "metadata": {},
     "output_type": "execute_result"
    }
   ],
   "source": [
    "pwd"
   ],
   "metadata": {
    "collapsed": false,
    "ExecuteTime": {
     "end_time": "2024-01-21T15:02:54.255147100Z",
     "start_time": "2024-01-21T15:02:54.179526Z"
    }
   },
   "id": "5e200d9c9fdc9769",
   "execution_count": 2
  },
  {
   "cell_type": "code",
   "outputs": [
    {
     "name": "stdout",
     "output_type": "stream",
     "text": [
      "env: PATH=/storage/yangjianLab/chenwenhao/Software/micromamba/envs/torch_v2/bin:/storage/yangjianLab/chenwenhao/Software/google-cloud-sdk/bin:/home/yangjianLab/chenwenhao/bin:/storage/yangjianLab/chenwenhao/bin:/opt/slurm/sbin:/opt/slurm/bin:/soft/singularity-3.7.1/bin:/storage/yangjianLab/chenwenhao/Software/micromamba/condabin:/storage/yangjianLab/chenwenhao/Software/google-cloud-sdk/bin:/home/yangjianLab/chenwenhao/bin:/storage/yangjianLab/chenwenhao/bin:/opt/slurm/sbin:/opt/slurm/bin:/home/yangjianLab/chenwenhao/.cargo/bin:/home/yangjianLab/chenwenhao/bin/bin:/home/yangjianLab/chenwenhao/.local/bin:/home/yangjianLab/chenwenhao/bin:/opt/slurm/sbin:/opt/slurm/bin:/soft/modules/modules-4.7.0/bin:/usr/local/bin:/usr/bin:/usr/local/sbin:/usr/sbin:/home/yangjianLab/chenwenhao/bin\n"
     ]
    }
   ],
   "source": [
    "%env PATH=/storage/yangjianLab/chenwenhao/Software/micromamba/envs/torch_v2/bin:/storage/yangjianLab/chenwenhao/Software/google-cloud-sdk/bin:/home/yangjianLab/chenwenhao/bin:/storage/yangjianLab/chenwenhao/bin:/opt/slurm/sbin:/opt/slurm/bin:/soft/singularity-3.7.1/bin:/storage/yangjianLab/chenwenhao/Software/micromamba/condabin:/storage/yangjianLab/chenwenhao/Software/google-cloud-sdk/bin:/home/yangjianLab/chenwenhao/bin:/storage/yangjianLab/chenwenhao/bin:/opt/slurm/sbin:/opt/slurm/bin:/home/yangjianLab/chenwenhao/.cargo/bin:/home/yangjianLab/chenwenhao/bin/bin:/home/yangjianLab/chenwenhao/.local/bin:/home/yangjianLab/chenwenhao/bin:/opt/slurm/sbin:/opt/slurm/bin:/soft/modules/modules-4.7.0/bin:/usr/local/bin:/usr/bin:/usr/local/sbin:/usr/sbin:/home/yangjianLab/chenwenhao/bin"
   ],
   "metadata": {
    "collapsed": false,
    "ExecuteTime": {
     "end_time": "2024-01-21T15:29:27.870726800Z",
     "start_time": "2024-01-21T15:29:27.824722500Z"
    }
   },
   "id": "26ecfb3f415e6f67",
   "execution_count": 17
  },
  {
   "cell_type": "code",
   "outputs": [
    {
     "name": "stdout",
     "output_type": "stream",
     "text": [
      "usage: GPS [-h] [--version]\n",
      "           {run_find_latent_representations,run_latent_to_gene,run_generate_ldscore,run_spatial_ldsc,run_cauchy_combination,run_visualize,run_all_mode}\n",
      "           ...\n",
      "\n",
      " GPS: Genetics-informed pathogenic spatial mapping\n",
      "\n",
      "options:\n",
      "  -h, --help            show this help message and exit\n",
      "  --version, -v         show program's version number and exit\n",
      "\n",
      "Available subcommands:\n",
      "  {run_find_latent_representations,run_latent_to_gene,run_generate_ldscore,run_spatial_ldsc,run_cauchy_combination,run_visualize,run_all_mode}\n",
      "                        Subcommands\n",
      "    run_find_latent_representations\n",
      "                        Run Find_latent_representations \n",
      "                        Find the latent representations of each spot by running GNN-VAE\n",
      "    run_latent_to_gene  Run Latent_to_gene \n",
      "                        Find gene marker gene scores for each spot by using latent representations from nearby spots\n",
      "    run_generate_ldscore\n",
      "                        Run Generate_ldscore \n",
      "                        Generate LD scores for each spot\n",
      "    run_spatial_ldsc    Run Spatial_ldsc \n",
      "                        Run spatial LDSC for each spot\n",
      "    run_cauchy_combination\n",
      "                        Run Cauchy_combination for each annotation\n",
      "    run_visualize       Visualize the GPS results\n",
      "    run_all_mode        Run GPS Pipeline \n",
      "                        GSP Pipeline (Run Find_latent_representations, Latent_to_gene, and Generate_ldscore) in order\n"
     ]
    }
   ],
   "source": [
    "%%bash\n",
    "GPS -h"
   ],
   "metadata": {
    "collapsed": false,
    "ExecuteTime": {
     "end_time": "2024-01-21T15:30:31.870507300Z",
     "start_time": "2024-01-21T15:30:31.715162800Z"
    }
   },
   "id": "11820ade62e20dc8",
   "execution_count": 21
  },
  {
   "cell_type": "code",
   "outputs": [
    {
     "name": "stdout",
     "output_type": "stream",
     "text": [
      "/storage/yangjianLab/chenwenhao/Software/micromamba/envs/torch_v2/bin/python\r\n"
     ]
    }
   ],
   "source": [
    "!which python"
   ],
   "metadata": {
    "collapsed": false,
    "ExecuteTime": {
     "end_time": "2024-01-21T15:29:35.691401700Z",
     "start_time": "2024-01-21T15:29:35.474142200Z"
    }
   },
   "id": "b2cde728f76b0876",
   "execution_count": 18
  },
  {
   "cell_type": "code",
   "outputs": [
    {
     "name": "stdout",
     "output_type": "stream",
     "text": [
      "usage: GPS [-h] [--version]\r\n",
      "           {run_find_latent_representations,run_latent_to_gene,run_generate_ldscore,run_spatial_ldsc,run_cauchy_combination,run_visualize,run_all_mode}\r\n",
      "           ...\r\n",
      "\r\n",
      " GPS: Genetics-informed pathogenic spatial mapping\r\n",
      "\r\n",
      "options:\r\n",
      "  -h, --help            show this help message and exit\r\n",
      "  --version, -v         show program's version number and exit\r\n",
      "\r\n",
      "Available subcommands:\r\n",
      "  {run_find_latent_representations,run_latent_to_gene,run_generate_ldscore,run_spatial_ldsc,run_cauchy_combination,run_visualize,run_all_mode}\r\n",
      "                        Subcommands\r\n",
      "    run_find_latent_representations\r\n",
      "                        Run Find_latent_representations \r\n",
      "                        Find the latent representations of each spot by running GNN-VAE\r\n",
      "    run_latent_to_gene  Run Latent_to_gene \r\n",
      "                        Find gene marker gene scores for each spot by using latent representations from nearby spots\r\n",
      "    run_generate_ldscore\r\n",
      "                        Run Generate_ldscore \r\n",
      "                        Generate LD scores for each spot\r\n",
      "    run_spatial_ldsc    Run Spatial_ldsc \r\n",
      "                        Run spatial LDSC for each spot\r\n",
      "    run_cauchy_combination\r\n",
      "                        Run Cauchy_combination for each annotation\r\n",
      "    run_visualize       Visualize the GPS results\r\n",
      "    run_all_mode        Run GPS Pipeline \r\n",
      "                        GSP Pipeline (Run Find_latent_representations, Latent_to_gene, and Generate_ldscore) in order\r\n"
     ]
    }
   ],
   "source": [
    "!GPS"
   ],
   "metadata": {
    "collapsed": false,
    "ExecuteTime": {
     "end_time": "2024-01-21T15:29:47.526265900Z",
     "start_time": "2024-01-21T15:29:47.111234200Z"
    }
   },
   "id": "12ce6487699cc273",
   "execution_count": 19
  }
 ],
 "metadata": {
  "kernelspec": {
   "display_name": "Python 3",
   "language": "python",
   "name": "python3"
  },
  "language_info": {
   "codemirror_mode": {
    "name": "ipython",
    "version": 2
   },
   "file_extension": ".py",
   "mimetype": "text/x-python",
   "name": "python",
   "nbconvert_exporter": "python",
   "pygments_lexer": "ipython2",
   "version": "2.7.6"
  }
 },
 "nbformat": 4,
 "nbformat_minor": 5
}
